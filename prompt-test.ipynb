{
 "cells": [
  {
   "cell_type": "code",
   "execution_count": 3,
   "id": "99722884-39d1-477b-a342-3d0bafad1d7a",
   "metadata": {},
   "outputs": [],
   "source": [
    "from openai import OpenAI\n",
    "import os\n",
    "\n",
    "from dotenv import load_dotenv, find_dotenv\n",
    "_ = load_dotenv(find_dotenv())\n",
    "\n",
    "client = OpenAI(\n",
    "    api_key=os.environ['OPENAI_API_KEY'],  # this is also the default, it can be omitted\n",
    ")"
   ]
  },
  {
   "cell_type": "code",
   "execution_count": 4,
   "id": "4ddc7a40-33bb-40c3-a352-e67de3872367",
   "metadata": {},
   "outputs": [],
   "source": [
    "def get_completion(prompt, model=\"gpt-3.5-turbo\"): #3.5-turbo\n",
    "    messages = [{\"role\": \"user\", \"content\": prompt}]\n",
    "    response = client.chat.completions.create(\n",
    "        model=model,\n",
    "        temperature=0.2, # this is the degree of randomness of the model's output\n",
    "        messages= [{\"role\": \"user\", \"content\": prompt}],\n",
    "    )\n",
    "    return response.choices[0].message.content"
   ]
  },
  {
   "cell_type": "code",
   "execution_count": 7,
   "id": "9f970299",
   "metadata": {},
   "outputs": [
    {
     "name": "stdout",
     "output_type": "stream",
     "text": [
      "Summary: The text describes the unique movements of fireflies, bumblebees, fruit flies, hummingbirds, and a pigeon-like bird in a poetic and mesmerizing way.\n",
      "\n",
      "Title: Dance of Nature\n",
      "\n",
      "Haiku: \n",
      "Fireflies dance with light, \n",
      "Bumblebees hum in harmony, \n",
      "Nature's symphony.\n"
     ]
    }
   ],
   "source": [
    "text = f\"\"\"\n",
    "Fireflies and bumblebees. The way they move. \\ \n",
    "Fireflies with their jetpacks boosting every few seconds as they start gravitating slowly down, \\ \n",
    "followed by a sine curve of upward propulsion. And bublebees like the guitarists of Khraungbin, \\ \n",
    "an intentional U-shape... as if belly dancing in asynchronicity. \\ \n",
    "But then seemingly haphazardly they run into a fellow bee and exchange some vital information before departing in smooth curves. \\ \n",
    "And fruit flies too... they hover in mid air as if meditating, before a burst of energy hits out of nowhere guiding in a random direction. \\ \n",
    "Hummingbirds. Like little typhoons that settle for just a few seconds before moving on. And that specific kind of pigeon (i think?), \\ \n",
    "that whistles like the wind as it jump-flies around.\n",
    "\"\"\"\n",
    "\n",
    "prompt = f\"\"\"\n",
    "Perform the following tasks: \\ \n",
    "1. Summarize the following text delimited by <> in a sentence. \\ \n",
    "2. Provide a title for the text. \\ \n",
    "4. Create a haiku based on the text. \\ \n",
    "Separate your answers with line breaks. \\ \n",
    "\n",
    "Use the following format:\n",
    "Summary: <summary>\n",
    "Title: <title>\n",
    "Haiku: <haiku>\n",
    "\n",
    "Text: <{text}>\n",
    "\"\"\"\n",
    "\n",
    "response = get_completion(prompt)\n",
    "print(response)"
   ]
  },
  {
   "cell_type": "code",
   "execution_count": 5,
   "id": "b563e36c",
   "metadata": {},
   "outputs": [
    {
     "name": "stdout",
     "output_type": "stream",
     "text": [
      "[\n",
      "  {\n",
      "    \"title\": \"Kurukshetra 3001: The Galactic War\",\n",
      "    \"author\": \"Ravi Shankar\",\n",
      "    \"summary\": \"A reimagining of the Mahabharata, set in the year 3001, where the Kauravas and Pandavas are leaders of rival galactic empires. The story unfolds the cosmic battle, where divine weapons are replaced by futuristic technology and Krishna is an artificial intelligence guiding the Pandavas.\"\n",
      "  },\n",
      "  {\n",
      "    \"title\": \"Ashoka's Eden: The Quantum Leap\",\n",
      "    \"author\": \"Meena Kumari\",\n",
      "    \"summary\": \"After discovering an ancient relic of Emperor Ashoka, archeologist Ravi finds himself flung thousands of years into the future. Now, in a utopian world built on Ashoka's principles, Ravi must navigate this alien society and uncover the truth behind humanity's evolution.\"\n",
      "  },\n",
      "  {\n",
      "    \"title\": \"Ravana's Resurgence: The Martian Conspiracy\",\n",
      "    \"author\": \"Vikram Joshi\",\n",
      "    \"summary\": \"In a future where humanity colonizes Mars, the colonists are threatened by a powerful entity identifying as Ravana. Is it a prank, an alien, or the actual demon king of Lanka himself? A team of astronauts, scientists, and a mysterious sage unravel this Martian conspiracy, inspired by the Ramayana.\"\n",
      "  }\n",
      "]\n"
     ]
    }
   ],
   "source": [
    "prompt = f\"\"\"\n",
    "Generate a list of three made-up sci-fi books based on Indian mythology. \\ \n",
    "Provide them in JSON format with three fields: title, author, and summary.\n",
    "\"\"\"\n",
    "\n",
    "response = get_completion(prompt)\n",
    "print(response)"
   ]
  },
  {
   "cell_type": "code",
   "execution_count": 5,
   "metadata": {},
   "outputs": [
    {
     "name": "stdout",
     "output_type": "stream",
     "text": [
      "1. List of emotions in the original text: nostalgia, interest, longing, serenity, peacefulness\n",
      "2. Title for the text: Seasons in New York City\n",
      "3. Text conveying opposite emotions: \n",
      "Summer in New York City invigorates with its intense heat and vibrant energy. The bustling streets of Manhattan are alive with excitement, as the bright lights of Times Square dazzle visitors and locals alike. The humid air wraps around you like a warm embrace, filling you with a sense of vitality and enthusiasm. The summer Moon hangs low in the sky, casting a radiant glow over the city that never sleeps. It's a season of action and opportunity, with no time for reflection or longing.\n",
      "4. Emotions conveyed in the generated text: invigoration, excitement, energy, vitality, enthusiasm\n"
     ]
    }
   ],
   "source": [
    "text = f\"\"\"\n",
    "Winter seems to have a certain kind of nostalgia associated with it. \\ \n",
    "Winter in New York has the same feeling but with an interesting twist. \\ \n",
    "A nostalgic feeling not quite my own but maybe borrowed from other people. \\ \n",
    "How can nostalgia not be your own? It's like Deja Vu but from another life. \n",
    "\n",
    "Summer in New York is humid and hot- it's real Summer. \\ \n",
    "Winter is frigid and cold- real Winter. So the transition - Fall - is real Fall. \\ \n",
    "However short lasting, however fast fleeting, it's Fall and it's all over inside you. \\ \n",
    "It's being in between two states. \\ \n",
    "It's treasuring the sunlight between leaves that rustle in a cool, ever so slightly chilly wind. \\ \n",
    "The evening Moon, the early Brooklyn Moon is more serene than ever against a sky with barely any clouds. \\ \n",
    "Manhattan Moon is Summer moon, huge and bright against the traffic lights of East 4th and 1st Avenue. \\ \n",
    "Brooklyn on the other hand is peaceful, promising of things that can be better, reflecting the brownstones and gas lamps \\ \n",
    "and big warehouses with underground electronic music. \\ \n",
    "They're both indescribably beautiful and they both have a certain kind of longing. \\ \n",
    "Part of being the Moon no matter where you are I guess. \n",
    "\n",
    "A change of seasons does interesting things to people. \\ \n",
    "In between two states, people have to change- they must change. \\ \n",
    "They must reevaluate and reenergize. It's not a matter of choice, it just happens. \n",
    "\"\"\"\n",
    "\n",
    "prompt = f\"\"\"\n",
    "    Perform the following tasks: \\\n",
    "    1. Indentify the list of emotions the writer is expression in the following text delimited by <>. Provide a list of at least 5 emotions. \\\n",
    "    2. Provide a title for the text. \\\n",
    "    3. Create a piece of text that conveys the opposite of the emotions identified in the first task, \\ \n",
    "    but uses the same subject matter as the original text. Make it no longer than 5 sentences. \\\n",
    "    4. Identify and list the emotions conveyed in the generated text from task 3. \\\n",
    "    Text: <{text}>\n",
    "\"\"\"\n",
    "\n",
    "response = get_completion(prompt)\n",
    "print(response)"
   ]
  }
 ],
 "metadata": {
  "kernelspec": {
   "display_name": "Python 3",
   "language": "python",
   "name": "python3"
  },
  "language_info": {
   "codemirror_mode": {
    "name": "ipython",
    "version": 3
   },
   "file_extension": ".py",
   "mimetype": "text/x-python",
   "name": "python",
   "nbconvert_exporter": "python",
   "pygments_lexer": "ipython3",
   "version": "3.7.4"
  }
 },
 "nbformat": 4,
 "nbformat_minor": 5
}
